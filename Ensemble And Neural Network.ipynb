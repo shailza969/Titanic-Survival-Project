{
  "nbformat": 4,
  "nbformat_minor": 0,
  "metadata": {
    "colab": {
      "name": "Ensemble.ipynb",
      "provenance": [],
      "authorship_tag": "ABX9TyMWzp2XXP7kW3NKw5pfgeMU",
      "include_colab_link": true
    },
    "kernelspec": {
      "name": "python3",
      "display_name": "Python 3"
    },
    "language_info": {
      "name": "python"
    },
    "accelerator": "GPU"
  },
  "cells": [
    {
      "cell_type": "markdown",
      "metadata": {
        "id": "view-in-github",
        "colab_type": "text"
      },
      "source": [
        "<a href=\"https://colab.research.google.com/github/shailza969/Titanic-Survival-Project/blob/main/Ensemble%20And%20Neural%20Network.ipynb\" target=\"_parent\"><img src=\"https://colab.research.google.com/assets/colab-badge.svg\" alt=\"Open In Colab\"/></a>"
      ]
    },
    {
      "cell_type": "code",
      "metadata": {
        "id": "S1I7SXlZ1iZc"
      },
      "source": [
        "import pandas as pd\n",
        "import numpy as np\n",
        "import matplotlib.pyplot as plt\n"
      ],
      "execution_count": 1,
      "outputs": []
    },
    {
      "cell_type": "code",
      "metadata": {
        "id": "ebpTlQ8K17sC"
      },
      "source": [
        "df= pd.read_csv(\"/content/train.csv\")"
      ],
      "execution_count": 2,
      "outputs": []
    },
    {
      "cell_type": "code",
      "metadata": {
        "colab": {
          "base_uri": "https://localhost:8080/",
          "height": 272
        },
        "id": "qh2OPdTo3BbM",
        "outputId": "054b20c7-5812-42a4-8cab-71dc9a9c7cb6"
      },
      "source": [
        "df.head()"
      ],
      "execution_count": 3,
      "outputs": [
        {
          "output_type": "execute_result",
          "data": {
            "text/html": [
              "<div>\n",
              "<style scoped>\n",
              "    .dataframe tbody tr th:only-of-type {\n",
              "        vertical-align: middle;\n",
              "    }\n",
              "\n",
              "    .dataframe tbody tr th {\n",
              "        vertical-align: top;\n",
              "    }\n",
              "\n",
              "    .dataframe thead th {\n",
              "        text-align: right;\n",
              "    }\n",
              "</style>\n",
              "<table border=\"1\" class=\"dataframe\">\n",
              "  <thead>\n",
              "    <tr style=\"text-align: right;\">\n",
              "      <th></th>\n",
              "      <th>PassengerId</th>\n",
              "      <th>Survived</th>\n",
              "      <th>Pclass</th>\n",
              "      <th>Name</th>\n",
              "      <th>Sex</th>\n",
              "      <th>Age</th>\n",
              "      <th>SibSp</th>\n",
              "      <th>Parch</th>\n",
              "      <th>Ticket</th>\n",
              "      <th>Fare</th>\n",
              "      <th>Cabin</th>\n",
              "      <th>Embarked</th>\n",
              "    </tr>\n",
              "  </thead>\n",
              "  <tbody>\n",
              "    <tr>\n",
              "      <th>0</th>\n",
              "      <td>1</td>\n",
              "      <td>0</td>\n",
              "      <td>3</td>\n",
              "      <td>Braund, Mr. Owen Harris</td>\n",
              "      <td>male</td>\n",
              "      <td>22.0</td>\n",
              "      <td>1</td>\n",
              "      <td>0</td>\n",
              "      <td>A/5 21171</td>\n",
              "      <td>7.2500</td>\n",
              "      <td>NaN</td>\n",
              "      <td>S</td>\n",
              "    </tr>\n",
              "    <tr>\n",
              "      <th>1</th>\n",
              "      <td>2</td>\n",
              "      <td>1</td>\n",
              "      <td>1</td>\n",
              "      <td>Cumings, Mrs. John Bradley (Florence Briggs Th...</td>\n",
              "      <td>female</td>\n",
              "      <td>38.0</td>\n",
              "      <td>1</td>\n",
              "      <td>0</td>\n",
              "      <td>PC 17599</td>\n",
              "      <td>71.2833</td>\n",
              "      <td>C85</td>\n",
              "      <td>C</td>\n",
              "    </tr>\n",
              "    <tr>\n",
              "      <th>2</th>\n",
              "      <td>3</td>\n",
              "      <td>1</td>\n",
              "      <td>3</td>\n",
              "      <td>Heikkinen, Miss. Laina</td>\n",
              "      <td>female</td>\n",
              "      <td>26.0</td>\n",
              "      <td>0</td>\n",
              "      <td>0</td>\n",
              "      <td>STON/O2. 3101282</td>\n",
              "      <td>7.9250</td>\n",
              "      <td>NaN</td>\n",
              "      <td>S</td>\n",
              "    </tr>\n",
              "    <tr>\n",
              "      <th>3</th>\n",
              "      <td>4</td>\n",
              "      <td>1</td>\n",
              "      <td>1</td>\n",
              "      <td>Futrelle, Mrs. Jacques Heath (Lily May Peel)</td>\n",
              "      <td>female</td>\n",
              "      <td>35.0</td>\n",
              "      <td>1</td>\n",
              "      <td>0</td>\n",
              "      <td>113803</td>\n",
              "      <td>53.1000</td>\n",
              "      <td>C123</td>\n",
              "      <td>S</td>\n",
              "    </tr>\n",
              "    <tr>\n",
              "      <th>4</th>\n",
              "      <td>5</td>\n",
              "      <td>0</td>\n",
              "      <td>3</td>\n",
              "      <td>Allen, Mr. William Henry</td>\n",
              "      <td>male</td>\n",
              "      <td>35.0</td>\n",
              "      <td>0</td>\n",
              "      <td>0</td>\n",
              "      <td>373450</td>\n",
              "      <td>8.0500</td>\n",
              "      <td>NaN</td>\n",
              "      <td>S</td>\n",
              "    </tr>\n",
              "  </tbody>\n",
              "</table>\n",
              "</div>"
            ],
            "text/plain": [
              "   PassengerId  Survived  Pclass  ...     Fare Cabin  Embarked\n",
              "0            1         0       3  ...   7.2500   NaN         S\n",
              "1            2         1       1  ...  71.2833   C85         C\n",
              "2            3         1       3  ...   7.9250   NaN         S\n",
              "3            4         1       1  ...  53.1000  C123         S\n",
              "4            5         0       3  ...   8.0500   NaN         S\n",
              "\n",
              "[5 rows x 12 columns]"
            ]
          },
          "metadata": {
            "tags": []
          },
          "execution_count": 3
        }
      ]
    },
    {
      "cell_type": "code",
      "metadata": {
        "colab": {
          "base_uri": "https://localhost:8080/"
        },
        "id": "ISyRns1Z3Vhf",
        "outputId": "fc88dccd-c6ac-4dae-f7a3-68059d4af480"
      },
      "source": [
        "\n",
        "df.columns"
      ],
      "execution_count": 4,
      "outputs": [
        {
          "output_type": "execute_result",
          "data": {
            "text/plain": [
              "Index(['PassengerId', 'Survived', 'Pclass', 'Name', 'Sex', 'Age', 'SibSp',\n",
              "       'Parch', 'Ticket', 'Fare', 'Cabin', 'Embarked'],\n",
              "      dtype='object')"
            ]
          },
          "metadata": {
            "tags": []
          },
          "execution_count": 4
        }
      ]
    },
    {
      "cell_type": "code",
      "metadata": {
        "id": "4-qWUjSn3bEv"
      },
      "source": [
        "l1 = ['PassengerId', 'Cabin', 'Ticket']\n",
        "df.drop(l1, axis = 1, inplace = True)"
      ],
      "execution_count": 5,
      "outputs": []
    },
    {
      "cell_type": "code",
      "metadata": {
        "colab": {
          "base_uri": "https://localhost:8080/",
          "height": 204
        },
        "id": "1i8b3TGp3meL",
        "outputId": "18cd4561-04de-4352-f199-31b26e1cd812"
      },
      "source": [
        "df.head()"
      ],
      "execution_count": 6,
      "outputs": [
        {
          "output_type": "execute_result",
          "data": {
            "text/html": [
              "<div>\n",
              "<style scoped>\n",
              "    .dataframe tbody tr th:only-of-type {\n",
              "        vertical-align: middle;\n",
              "    }\n",
              "\n",
              "    .dataframe tbody tr th {\n",
              "        vertical-align: top;\n",
              "    }\n",
              "\n",
              "    .dataframe thead th {\n",
              "        text-align: right;\n",
              "    }\n",
              "</style>\n",
              "<table border=\"1\" class=\"dataframe\">\n",
              "  <thead>\n",
              "    <tr style=\"text-align: right;\">\n",
              "      <th></th>\n",
              "      <th>Survived</th>\n",
              "      <th>Pclass</th>\n",
              "      <th>Name</th>\n",
              "      <th>Sex</th>\n",
              "      <th>Age</th>\n",
              "      <th>SibSp</th>\n",
              "      <th>Parch</th>\n",
              "      <th>Fare</th>\n",
              "      <th>Embarked</th>\n",
              "    </tr>\n",
              "  </thead>\n",
              "  <tbody>\n",
              "    <tr>\n",
              "      <th>0</th>\n",
              "      <td>0</td>\n",
              "      <td>3</td>\n",
              "      <td>Braund, Mr. Owen Harris</td>\n",
              "      <td>male</td>\n",
              "      <td>22.0</td>\n",
              "      <td>1</td>\n",
              "      <td>0</td>\n",
              "      <td>7.2500</td>\n",
              "      <td>S</td>\n",
              "    </tr>\n",
              "    <tr>\n",
              "      <th>1</th>\n",
              "      <td>1</td>\n",
              "      <td>1</td>\n",
              "      <td>Cumings, Mrs. John Bradley (Florence Briggs Th...</td>\n",
              "      <td>female</td>\n",
              "      <td>38.0</td>\n",
              "      <td>1</td>\n",
              "      <td>0</td>\n",
              "      <td>71.2833</td>\n",
              "      <td>C</td>\n",
              "    </tr>\n",
              "    <tr>\n",
              "      <th>2</th>\n",
              "      <td>1</td>\n",
              "      <td>3</td>\n",
              "      <td>Heikkinen, Miss. Laina</td>\n",
              "      <td>female</td>\n",
              "      <td>26.0</td>\n",
              "      <td>0</td>\n",
              "      <td>0</td>\n",
              "      <td>7.9250</td>\n",
              "      <td>S</td>\n",
              "    </tr>\n",
              "    <tr>\n",
              "      <th>3</th>\n",
              "      <td>1</td>\n",
              "      <td>1</td>\n",
              "      <td>Futrelle, Mrs. Jacques Heath (Lily May Peel)</td>\n",
              "      <td>female</td>\n",
              "      <td>35.0</td>\n",
              "      <td>1</td>\n",
              "      <td>0</td>\n",
              "      <td>53.1000</td>\n",
              "      <td>S</td>\n",
              "    </tr>\n",
              "    <tr>\n",
              "      <th>4</th>\n",
              "      <td>0</td>\n",
              "      <td>3</td>\n",
              "      <td>Allen, Mr. William Henry</td>\n",
              "      <td>male</td>\n",
              "      <td>35.0</td>\n",
              "      <td>0</td>\n",
              "      <td>0</td>\n",
              "      <td>8.0500</td>\n",
              "      <td>S</td>\n",
              "    </tr>\n",
              "  </tbody>\n",
              "</table>\n",
              "</div>"
            ],
            "text/plain": [
              "   Survived  Pclass  ...     Fare Embarked\n",
              "0         0       3  ...   7.2500        S\n",
              "1         1       1  ...  71.2833        C\n",
              "2         1       3  ...   7.9250        S\n",
              "3         1       1  ...  53.1000        S\n",
              "4         0       3  ...   8.0500        S\n",
              "\n",
              "[5 rows x 9 columns]"
            ]
          },
          "metadata": {
            "tags": []
          },
          "execution_count": 6
        }
      ]
    },
    {
      "cell_type": "code",
      "metadata": {
        "colab": {
          "base_uri": "https://localhost:8080/"
        },
        "id": "BWRooF3e3n42",
        "outputId": "85781a5f-8bfd-45ce-f314-ba73aa4114ef"
      },
      "source": [
        "df[\"Name\"]"
      ],
      "execution_count": 7,
      "outputs": [
        {
          "output_type": "execute_result",
          "data": {
            "text/plain": [
              "0                                Braund, Mr. Owen Harris\n",
              "1      Cumings, Mrs. John Bradley (Florence Briggs Th...\n",
              "2                                 Heikkinen, Miss. Laina\n",
              "3           Futrelle, Mrs. Jacques Heath (Lily May Peel)\n",
              "4                               Allen, Mr. William Henry\n",
              "                             ...                        \n",
              "886                                Montvila, Rev. Juozas\n",
              "887                         Graham, Miss. Margaret Edith\n",
              "888             Johnston, Miss. Catherine Helen \"Carrie\"\n",
              "889                                Behr, Mr. Karl Howell\n",
              "890                                  Dooley, Mr. Patrick\n",
              "Name: Name, Length: 891, dtype: object"
            ]
          },
          "metadata": {
            "tags": []
          },
          "execution_count": 7
        }
      ]
    },
    {
      "cell_type": "code",
      "metadata": {
        "id": "g9vs3bBr34RX"
      },
      "source": [
        "temp = df['Name'].unique()"
      ],
      "execution_count": 8,
      "outputs": []
    },
    {
      "cell_type": "code",
      "metadata": {
        "colab": {
          "base_uri": "https://localhost:8080/"
        },
        "id": "fOyubaAI4FzG",
        "outputId": "95044df4-9e08-4251-8397-31e44602a15e"
      },
      "source": [
        "temp[:10]"
      ],
      "execution_count": 9,
      "outputs": [
        {
          "output_type": "execute_result",
          "data": {
            "text/plain": [
              "array(['Braund, Mr. Owen Harris',\n",
              "       'Cumings, Mrs. John Bradley (Florence Briggs Thayer)',\n",
              "       'Heikkinen, Miss. Laina',\n",
              "       'Futrelle, Mrs. Jacques Heath (Lily May Peel)',\n",
              "       'Allen, Mr. William Henry', 'Moran, Mr. James',\n",
              "       'McCarthy, Mr. Timothy J', 'Palsson, Master. Gosta Leonard',\n",
              "       'Johnson, Mrs. Oscar W (Elisabeth Vilhelmina Berg)',\n",
              "       'Nasser, Mrs. Nicholas (Adele Achem)'], dtype=object)"
            ]
          },
          "metadata": {
            "tags": []
          },
          "execution_count": 9
        }
      ]
    },
    {
      "cell_type": "code",
      "metadata": {
        "id": "iXUaZ7-N4QeS"
      },
      "source": [
        "st= []\n",
        "for i in temp:\n",
        "  a = i.split()\n",
        "  for k in a:\n",
        "    if '.' in k:\n",
        "      st.append(k)\n",
        "      break\n"
      ],
      "execution_count": 10,
      "outputs": []
    },
    {
      "cell_type": "code",
      "metadata": {
        "colab": {
          "base_uri": "https://localhost:8080/"
        },
        "id": "03Y4UkC-8Hxd",
        "outputId": "21f59130-5f1e-46d3-d85f-3ad761fd5dc7"
      },
      "source": [
        "st[:10]"
      ],
      "execution_count": 11,
      "outputs": [
        {
          "output_type": "execute_result",
          "data": {
            "text/plain": [
              "['Mr.',\n",
              " 'Mrs.',\n",
              " 'Miss.',\n",
              " 'Mrs.',\n",
              " 'Mr.',\n",
              " 'Mr.',\n",
              " 'Mr.',\n",
              " 'Master.',\n",
              " 'Mrs.',\n",
              " 'Mrs.']"
            ]
          },
          "metadata": {
            "tags": []
          },
          "execution_count": 11
        }
      ]
    },
    {
      "cell_type": "code",
      "metadata": {
        "id": "Ru-XMAhy8KhD"
      },
      "source": [
        "st = np.array(st)"
      ],
      "execution_count": 12,
      "outputs": []
    },
    {
      "cell_type": "code",
      "metadata": {
        "colab": {
          "base_uri": "https://localhost:8080/"
        },
        "id": "bfnUpcyY8fMT",
        "outputId": "1a5612f6-e6dd-4adc-e891-87a934843a26"
      },
      "source": [
        "st[:10]"
      ],
      "execution_count": 13,
      "outputs": [
        {
          "output_type": "execute_result",
          "data": {
            "text/plain": [
              "array(['Mr.', 'Mrs.', 'Miss.', 'Mrs.', 'Mr.', 'Mr.', 'Mr.', 'Master.',\n",
              "       'Mrs.', 'Mrs.'], dtype='<U9')"
            ]
          },
          "metadata": {
            "tags": []
          },
          "execution_count": 13
        }
      ]
    },
    {
      "cell_type": "code",
      "metadata": {
        "id": "XePoOlyw8j2r"
      },
      "source": [
        "df[\"Name_front\"] = st"
      ],
      "execution_count": 14,
      "outputs": []
    },
    {
      "cell_type": "code",
      "metadata": {
        "colab": {
          "base_uri": "https://localhost:8080/",
          "height": 204
        },
        "id": "bkGOSviZ9XnJ",
        "outputId": "938e8a22-ed94-4a88-a128-93c8ba655fc4"
      },
      "source": [
        "df.head()"
      ],
      "execution_count": 15,
      "outputs": [
        {
          "output_type": "execute_result",
          "data": {
            "text/html": [
              "<div>\n",
              "<style scoped>\n",
              "    .dataframe tbody tr th:only-of-type {\n",
              "        vertical-align: middle;\n",
              "    }\n",
              "\n",
              "    .dataframe tbody tr th {\n",
              "        vertical-align: top;\n",
              "    }\n",
              "\n",
              "    .dataframe thead th {\n",
              "        text-align: right;\n",
              "    }\n",
              "</style>\n",
              "<table border=\"1\" class=\"dataframe\">\n",
              "  <thead>\n",
              "    <tr style=\"text-align: right;\">\n",
              "      <th></th>\n",
              "      <th>Survived</th>\n",
              "      <th>Pclass</th>\n",
              "      <th>Name</th>\n",
              "      <th>Sex</th>\n",
              "      <th>Age</th>\n",
              "      <th>SibSp</th>\n",
              "      <th>Parch</th>\n",
              "      <th>Fare</th>\n",
              "      <th>Embarked</th>\n",
              "      <th>Name_front</th>\n",
              "    </tr>\n",
              "  </thead>\n",
              "  <tbody>\n",
              "    <tr>\n",
              "      <th>0</th>\n",
              "      <td>0</td>\n",
              "      <td>3</td>\n",
              "      <td>Braund, Mr. Owen Harris</td>\n",
              "      <td>male</td>\n",
              "      <td>22.0</td>\n",
              "      <td>1</td>\n",
              "      <td>0</td>\n",
              "      <td>7.2500</td>\n",
              "      <td>S</td>\n",
              "      <td>Mr.</td>\n",
              "    </tr>\n",
              "    <tr>\n",
              "      <th>1</th>\n",
              "      <td>1</td>\n",
              "      <td>1</td>\n",
              "      <td>Cumings, Mrs. John Bradley (Florence Briggs Th...</td>\n",
              "      <td>female</td>\n",
              "      <td>38.0</td>\n",
              "      <td>1</td>\n",
              "      <td>0</td>\n",
              "      <td>71.2833</td>\n",
              "      <td>C</td>\n",
              "      <td>Mrs.</td>\n",
              "    </tr>\n",
              "    <tr>\n",
              "      <th>2</th>\n",
              "      <td>1</td>\n",
              "      <td>3</td>\n",
              "      <td>Heikkinen, Miss. Laina</td>\n",
              "      <td>female</td>\n",
              "      <td>26.0</td>\n",
              "      <td>0</td>\n",
              "      <td>0</td>\n",
              "      <td>7.9250</td>\n",
              "      <td>S</td>\n",
              "      <td>Miss.</td>\n",
              "    </tr>\n",
              "    <tr>\n",
              "      <th>3</th>\n",
              "      <td>1</td>\n",
              "      <td>1</td>\n",
              "      <td>Futrelle, Mrs. Jacques Heath (Lily May Peel)</td>\n",
              "      <td>female</td>\n",
              "      <td>35.0</td>\n",
              "      <td>1</td>\n",
              "      <td>0</td>\n",
              "      <td>53.1000</td>\n",
              "      <td>S</td>\n",
              "      <td>Mrs.</td>\n",
              "    </tr>\n",
              "    <tr>\n",
              "      <th>4</th>\n",
              "      <td>0</td>\n",
              "      <td>3</td>\n",
              "      <td>Allen, Mr. William Henry</td>\n",
              "      <td>male</td>\n",
              "      <td>35.0</td>\n",
              "      <td>0</td>\n",
              "      <td>0</td>\n",
              "      <td>8.0500</td>\n",
              "      <td>S</td>\n",
              "      <td>Mr.</td>\n",
              "    </tr>\n",
              "  </tbody>\n",
              "</table>\n",
              "</div>"
            ],
            "text/plain": [
              "   Survived  Pclass  ... Embarked Name_front\n",
              "0         0       3  ...        S        Mr.\n",
              "1         1       1  ...        C       Mrs.\n",
              "2         1       3  ...        S      Miss.\n",
              "3         1       1  ...        S       Mrs.\n",
              "4         0       3  ...        S        Mr.\n",
              "\n",
              "[5 rows x 10 columns]"
            ]
          },
          "metadata": {
            "tags": []
          },
          "execution_count": 15
        }
      ]
    },
    {
      "cell_type": "code",
      "metadata": {
        "colab": {
          "base_uri": "https://localhost:8080/"
        },
        "id": "1zrMzvsn9Y7h",
        "outputId": "d78f5a48-08d0-4acc-8f1a-863450024d04"
      },
      "source": [
        "df.info()"
      ],
      "execution_count": 16,
      "outputs": [
        {
          "output_type": "stream",
          "text": [
            "<class 'pandas.core.frame.DataFrame'>\n",
            "RangeIndex: 891 entries, 0 to 890\n",
            "Data columns (total 10 columns):\n",
            " #   Column      Non-Null Count  Dtype  \n",
            "---  ------      --------------  -----  \n",
            " 0   Survived    891 non-null    int64  \n",
            " 1   Pclass      891 non-null    int64  \n",
            " 2   Name        891 non-null    object \n",
            " 3   Sex         891 non-null    object \n",
            " 4   Age         714 non-null    float64\n",
            " 5   SibSp       891 non-null    int64  \n",
            " 6   Parch       891 non-null    int64  \n",
            " 7   Fare        891 non-null    float64\n",
            " 8   Embarked    889 non-null    object \n",
            " 9   Name_front  891 non-null    object \n",
            "dtypes: float64(2), int64(4), object(4)\n",
            "memory usage: 69.7+ KB\n"
          ],
          "name": "stdout"
        }
      ]
    },
    {
      "cell_type": "code",
      "metadata": {
        "id": "k9uUvqkd9nJ5"
      },
      "source": [
        "df['Age'].fillna(df['Age'].mean(), inplace = True)\n",
        "df['Embarked'].fillna(str(df['Embarked'].mode), inplace = True)"
      ],
      "execution_count": 17,
      "outputs": []
    },
    {
      "cell_type": "code",
      "metadata": {
        "colab": {
          "base_uri": "https://localhost:8080/"
        },
        "id": "ILzpMZdh-c9i",
        "outputId": "4df9995d-6d41-4f75-aeb0-635157332783"
      },
      "source": [
        "df.isnull().sum()"
      ],
      "execution_count": 18,
      "outputs": [
        {
          "output_type": "execute_result",
          "data": {
            "text/plain": [
              "Survived      0\n",
              "Pclass        0\n",
              "Name          0\n",
              "Sex           0\n",
              "Age           0\n",
              "SibSp         0\n",
              "Parch         0\n",
              "Fare          0\n",
              "Embarked      0\n",
              "Name_front    0\n",
              "dtype: int64"
            ]
          },
          "metadata": {
            "tags": []
          },
          "execution_count": 18
        }
      ]
    },
    {
      "cell_type": "code",
      "metadata": {
        "colab": {
          "base_uri": "https://localhost:8080/"
        },
        "id": "QK5Y2kQr-qRE",
        "outputId": "e8a75054-86a5-418b-ec8d-47b974f85bb1"
      },
      "source": [
        "df.info()"
      ],
      "execution_count": 19,
      "outputs": [
        {
          "output_type": "stream",
          "text": [
            "<class 'pandas.core.frame.DataFrame'>\n",
            "RangeIndex: 891 entries, 0 to 890\n",
            "Data columns (total 10 columns):\n",
            " #   Column      Non-Null Count  Dtype  \n",
            "---  ------      --------------  -----  \n",
            " 0   Survived    891 non-null    int64  \n",
            " 1   Pclass      891 non-null    int64  \n",
            " 2   Name        891 non-null    object \n",
            " 3   Sex         891 non-null    object \n",
            " 4   Age         891 non-null    float64\n",
            " 5   SibSp       891 non-null    int64  \n",
            " 6   Parch       891 non-null    int64  \n",
            " 7   Fare        891 non-null    float64\n",
            " 8   Embarked    891 non-null    object \n",
            " 9   Name_front  891 non-null    object \n",
            "dtypes: float64(2), int64(4), object(4)\n",
            "memory usage: 69.7+ KB\n"
          ],
          "name": "stdout"
        }
      ]
    },
    {
      "cell_type": "code",
      "metadata": {
        "id": "YaxRcM5L-fcs"
      },
      "source": [
        "df.drop('Name', axis = 1, inplace=True)"
      ],
      "execution_count": 20,
      "outputs": []
    },
    {
      "cell_type": "code",
      "metadata": {
        "colab": {
          "base_uri": "https://localhost:8080/"
        },
        "id": "2PahqgeT-9sj",
        "outputId": "f4d8eac9-2e43-41bd-b5d0-b854763ab68b"
      },
      "source": [
        "df.info()"
      ],
      "execution_count": 21,
      "outputs": [
        {
          "output_type": "stream",
          "text": [
            "<class 'pandas.core.frame.DataFrame'>\n",
            "RangeIndex: 891 entries, 0 to 890\n",
            "Data columns (total 9 columns):\n",
            " #   Column      Non-Null Count  Dtype  \n",
            "---  ------      --------------  -----  \n",
            " 0   Survived    891 non-null    int64  \n",
            " 1   Pclass      891 non-null    int64  \n",
            " 2   Sex         891 non-null    object \n",
            " 3   Age         891 non-null    float64\n",
            " 4   SibSp       891 non-null    int64  \n",
            " 5   Parch       891 non-null    int64  \n",
            " 6   Fare        891 non-null    float64\n",
            " 7   Embarked    891 non-null    object \n",
            " 8   Name_front  891 non-null    object \n",
            "dtypes: float64(2), int64(4), object(3)\n",
            "memory usage: 62.8+ KB\n"
          ],
          "name": "stdout"
        }
      ]
    },
    {
      "cell_type": "code",
      "metadata": {
        "id": "ti-qGftv--9z"
      },
      "source": [
        "from sklearn.preprocessing import LabelEncoder\n",
        "le_s = LabelEncoder()\n",
        "le_e = LabelEncoder()\n",
        "le_n = LabelEncoder()\n",
        "df['Sex'] = le_s.fit_transform(df['Sex'])\n",
        "df['Embarked'] = le_e.fit_transform(df['Embarked'])\n",
        "df['Name_front'] = le_n.fit_transform(df['Name_front'])"
      ],
      "execution_count": 22,
      "outputs": []
    },
    {
      "cell_type": "code",
      "metadata": {
        "colab": {
          "base_uri": "https://localhost:8080/",
          "height": 204
        },
        "id": "tuTw0TC2ANXu",
        "outputId": "c4800b06-bbd9-49c6-d9f4-609d3403f999"
      },
      "source": [
        "df.head()"
      ],
      "execution_count": 23,
      "outputs": [
        {
          "output_type": "execute_result",
          "data": {
            "text/html": [
              "<div>\n",
              "<style scoped>\n",
              "    .dataframe tbody tr th:only-of-type {\n",
              "        vertical-align: middle;\n",
              "    }\n",
              "\n",
              "    .dataframe tbody tr th {\n",
              "        vertical-align: top;\n",
              "    }\n",
              "\n",
              "    .dataframe thead th {\n",
              "        text-align: right;\n",
              "    }\n",
              "</style>\n",
              "<table border=\"1\" class=\"dataframe\">\n",
              "  <thead>\n",
              "    <tr style=\"text-align: right;\">\n",
              "      <th></th>\n",
              "      <th>Survived</th>\n",
              "      <th>Pclass</th>\n",
              "      <th>Sex</th>\n",
              "      <th>Age</th>\n",
              "      <th>SibSp</th>\n",
              "      <th>Parch</th>\n",
              "      <th>Fare</th>\n",
              "      <th>Embarked</th>\n",
              "      <th>Name_front</th>\n",
              "    </tr>\n",
              "  </thead>\n",
              "  <tbody>\n",
              "    <tr>\n",
              "      <th>0</th>\n",
              "      <td>0</td>\n",
              "      <td>3</td>\n",
              "      <td>1</td>\n",
              "      <td>22.0</td>\n",
              "      <td>1</td>\n",
              "      <td>0</td>\n",
              "      <td>7.2500</td>\n",
              "      <td>3</td>\n",
              "      <td>12</td>\n",
              "    </tr>\n",
              "    <tr>\n",
              "      <th>1</th>\n",
              "      <td>1</td>\n",
              "      <td>1</td>\n",
              "      <td>0</td>\n",
              "      <td>38.0</td>\n",
              "      <td>1</td>\n",
              "      <td>0</td>\n",
              "      <td>71.2833</td>\n",
              "      <td>1</td>\n",
              "      <td>13</td>\n",
              "    </tr>\n",
              "    <tr>\n",
              "      <th>2</th>\n",
              "      <td>1</td>\n",
              "      <td>3</td>\n",
              "      <td>0</td>\n",
              "      <td>26.0</td>\n",
              "      <td>0</td>\n",
              "      <td>0</td>\n",
              "      <td>7.9250</td>\n",
              "      <td>3</td>\n",
              "      <td>9</td>\n",
              "    </tr>\n",
              "    <tr>\n",
              "      <th>3</th>\n",
              "      <td>1</td>\n",
              "      <td>1</td>\n",
              "      <td>0</td>\n",
              "      <td>35.0</td>\n",
              "      <td>1</td>\n",
              "      <td>0</td>\n",
              "      <td>53.1000</td>\n",
              "      <td>3</td>\n",
              "      <td>13</td>\n",
              "    </tr>\n",
              "    <tr>\n",
              "      <th>4</th>\n",
              "      <td>0</td>\n",
              "      <td>3</td>\n",
              "      <td>1</td>\n",
              "      <td>35.0</td>\n",
              "      <td>0</td>\n",
              "      <td>0</td>\n",
              "      <td>8.0500</td>\n",
              "      <td>3</td>\n",
              "      <td>12</td>\n",
              "    </tr>\n",
              "  </tbody>\n",
              "</table>\n",
              "</div>"
            ],
            "text/plain": [
              "   Survived  Pclass  Sex   Age  SibSp  Parch     Fare  Embarked  Name_front\n",
              "0         0       3    1  22.0      1      0   7.2500         3          12\n",
              "1         1       1    0  38.0      1      0  71.2833         1          13\n",
              "2         1       3    0  26.0      0      0   7.9250         3           9\n",
              "3         1       1    0  35.0      1      0  53.1000         3          13\n",
              "4         0       3    1  35.0      0      0   8.0500         3          12"
            ]
          },
          "metadata": {
            "tags": []
          },
          "execution_count": 23
        }
      ]
    },
    {
      "cell_type": "code",
      "metadata": {
        "id": "0ppz8JojAXEQ"
      },
      "source": [
        "X = df.iloc[:,1:]\n",
        "y = df.iloc[:, 0]"
      ],
      "execution_count": 24,
      "outputs": []
    },
    {
      "cell_type": "code",
      "metadata": {
        "id": "wyLFS1mCC9Vn"
      },
      "source": [
        "from sklearn.model_selection import train_test_split\n",
        "X_train, X_test, y_train , y_test= train_test_split(X, y, test_size = 0.2)"
      ],
      "execution_count": 25,
      "outputs": []
    },
    {
      "cell_type": "code",
      "metadata": {
        "colab": {
          "base_uri": "https://localhost:8080/"
        },
        "id": "Nz2u79txFxnu",
        "outputId": "4b455fb2-21d7-42b7-b48b-a1f2dcee2d70"
      },
      "source": [
        "X_test.shape, y_test.shape"
      ],
      "execution_count": 26,
      "outputs": [
        {
          "output_type": "execute_result",
          "data": {
            "text/plain": [
              "((179, 8), (179,))"
            ]
          },
          "metadata": {
            "tags": []
          },
          "execution_count": 26
        }
      ]
    },
    {
      "cell_type": "code",
      "metadata": {
        "id": "Y24jKNJpDSPX"
      },
      "source": [
        "from sklearn.ensemble import RandomForestClassifier\n"
      ],
      "execution_count": 34,
      "outputs": []
    },
    {
      "cell_type": "code",
      "metadata": {
        "id": "l-_Tpui2zr4R"
      },
      "source": [
        "clf = RandomForestClassifier(n_estimators= 50, n_jobs = -1, max_depth = 2)"
      ],
      "execution_count": 35,
      "outputs": []
    },
    {
      "cell_type": "code",
      "metadata": {
        "colab": {
          "base_uri": "https://localhost:8080/"
        },
        "id": "3t0UY-EPDnyL",
        "outputId": "51661c55-0d49-4044-b088-cf2821668427"
      },
      "source": [
        "clf.fit(X_train, y_train)"
      ],
      "execution_count": 36,
      "outputs": [
        {
          "output_type": "execute_result",
          "data": {
            "text/plain": [
              "RandomForestClassifier(bootstrap=True, ccp_alpha=0.0, class_weight=None,\n",
              "                       criterion='gini', max_depth=2, max_features='auto',\n",
              "                       max_leaf_nodes=None, max_samples=None,\n",
              "                       min_impurity_decrease=0.0, min_impurity_split=None,\n",
              "                       min_samples_leaf=1, min_samples_split=2,\n",
              "                       min_weight_fraction_leaf=0.0, n_estimators=50, n_jobs=-1,\n",
              "                       oob_score=False, random_state=None, verbose=0,\n",
              "                       warm_start=False)"
            ]
          },
          "metadata": {
            "tags": []
          },
          "execution_count": 36
        }
      ]
    },
    {
      "cell_type": "markdown",
      "metadata": {
        "id": "flkiJQR_D9Xg"
      },
      "source": [
        "# Overfitting case when max_depth isn't mentioned and estimators are 10"
      ]
    },
    {
      "cell_type": "code",
      "metadata": {
        "colab": {
          "base_uri": "https://localhost:8080/"
        },
        "id": "-HCkgqglDrv1",
        "outputId": "346fa359-bed7-4a2c-afc5-1bbfbcee1d01"
      },
      "source": [
        "clf.score(X_train, y_train)"
      ],
      "execution_count": 32,
      "outputs": [
        {
          "output_type": "execute_result",
          "data": {
            "text/plain": [
              "0.9719101123595506"
            ]
          },
          "metadata": {
            "tags": []
          },
          "execution_count": 32
        }
      ]
    },
    {
      "cell_type": "code",
      "metadata": {
        "colab": {
          "base_uri": "https://localhost:8080/"
        },
        "id": "9JoO5zOzDzDB",
        "outputId": "0afb1d82-7573-4e70-b115-7cc1fae36433"
      },
      "source": [
        "clf.score(X_test, y_test)"
      ],
      "execution_count": 33,
      "outputs": [
        {
          "output_type": "execute_result",
          "data": {
            "text/plain": [
              "0.8491620111731844"
            ]
          },
          "metadata": {
            "tags": []
          },
          "execution_count": 33
        }
      ]
    },
    {
      "cell_type": "markdown",
      "metadata": {
        "id": "nC1eerAREf3w"
      },
      "source": [
        "# a General model"
      ]
    },
    {
      "cell_type": "code",
      "metadata": {
        "colab": {
          "base_uri": "https://localhost:8080/"
        },
        "id": "AWe3nGfCD7Gl",
        "outputId": "9853b370-3c10-4854-c7ff-19327203982c"
      },
      "source": [
        "print(clf.score(X_train, y_train))\n",
        "print(clf.score(X_test, y_test))"
      ],
      "execution_count": null,
      "outputs": [
        {
          "output_type": "stream",
          "text": [
            "0.797752808988764\n",
            "0.8044692737430168\n"
          ],
          "name": "stdout"
        }
      ]
    },
    {
      "cell_type": "markdown",
      "metadata": {
        "id": "yLwWDI7LCwRf"
      },
      "source": [
        "# BOOSTING"
      ]
    },
    {
      "cell_type": "markdown",
      "metadata": {
        "id": "UJp2ZDxOCVG1"
      },
      "source": [
        "### Adaboost Classifier\n"
      ]
    },
    {
      "cell_type": "code",
      "metadata": {
        "id": "63UMz7LlEWGe"
      },
      "source": [
        "from sklearn.ensemble import AdaBoostClassifier\n"
      ],
      "execution_count": null,
      "outputs": []
    },
    {
      "cell_type": "code",
      "metadata": {
        "id": "Kber6asdDDGi"
      },
      "source": [
        "clf1 = AdaBoostClassifier()"
      ],
      "execution_count": null,
      "outputs": []
    },
    {
      "cell_type": "code",
      "metadata": {
        "colab": {
          "base_uri": "https://localhost:8080/"
        },
        "id": "mi9JXU-IDWFH",
        "outputId": "fc8f731a-8c9b-45b0-f849-7fae2d804054"
      },
      "source": [
        "clf1.fit(X_train, y_train)"
      ],
      "execution_count": null,
      "outputs": [
        {
          "output_type": "execute_result",
          "data": {
            "text/plain": [
              "AdaBoostClassifier(algorithm='SAMME.R', base_estimator=None, learning_rate=1.0,\n",
              "                   n_estimators=50, random_state=None)"
            ]
          },
          "metadata": {
            "tags": []
          },
          "execution_count": 30
        }
      ]
    },
    {
      "cell_type": "markdown",
      "metadata": {
        "id": "oZoy97CMDndB"
      },
      "source": [
        "# n_estimators = 50, learning rate = 1"
      ]
    },
    {
      "cell_type": "code",
      "metadata": {
        "colab": {
          "base_uri": "https://localhost:8080/"
        },
        "id": "tqtBb8kyDa7h",
        "outputId": "966c3233-0e33-456c-e59e-9d495456563f"
      },
      "source": [
        "clf1.score(X_train, y_train)"
      ],
      "execution_count": null,
      "outputs": [
        {
          "output_type": "execute_result",
          "data": {
            "text/plain": [
              "0.8370786516853933"
            ]
          },
          "metadata": {
            "tags": []
          },
          "execution_count": 31
        }
      ]
    },
    {
      "cell_type": "code",
      "metadata": {
        "colab": {
          "base_uri": "https://localhost:8080/"
        },
        "id": "jrpn7hHgDhu9",
        "outputId": "442d92ae-230d-4ad8-a41f-119d2d034a2e"
      },
      "source": [
        "clf1.score(X_test, y_test)"
      ],
      "execution_count": null,
      "outputs": [
        {
          "output_type": "execute_result",
          "data": {
            "text/plain": [
              "0.8547486033519553"
            ]
          },
          "metadata": {
            "tags": []
          },
          "execution_count": 32
        }
      ]
    },
    {
      "cell_type": "code",
      "metadata": {
        "id": "0VNC33FADk3S"
      },
      "source": [
        "y_pred = clf1.predict(X_test)"
      ],
      "execution_count": null,
      "outputs": []
    },
    {
      "cell_type": "code",
      "metadata": {
        "colab": {
          "base_uri": "https://localhost:8080/"
        },
        "id": "MPA3h583EZGE",
        "outputId": "da1fa1f2-c101-43ad-d57a-9559e12fee6d"
      },
      "source": [
        "from sklearn.metrics import confusion_matrix\n",
        "confusion_matrix(y_pred, y_test)"
      ],
      "execution_count": null,
      "outputs": [
        {
          "output_type": "execute_result",
          "data": {
            "text/plain": [
              "array([[101,   8],\n",
              "       [ 18,  52]])"
            ]
          },
          "metadata": {
            "tags": []
          },
          "execution_count": 34
        }
      ]
    },
    {
      "cell_type": "markdown",
      "metadata": {
        "id": "E8uxlHh5E4V-"
      },
      "source": [
        "#XGBoost"
      ]
    },
    {
      "cell_type": "code",
      "metadata": {
        "id": "ottHteu4E37U"
      },
      "source": [
        "from xgboost import XGBClassifier"
      ],
      "execution_count": null,
      "outputs": []
    },
    {
      "cell_type": "code",
      "metadata": {
        "id": "xGqKbzHEEneb"
      },
      "source": [
        "clf2 = XGBClassifier()\n"
      ],
      "execution_count": null,
      "outputs": []
    },
    {
      "cell_type": "code",
      "metadata": {
        "colab": {
          "base_uri": "https://localhost:8080/"
        },
        "id": "GQkoqsw7FFc_",
        "outputId": "c6d06727-7d13-4e4b-c18f-7d5f1295344a"
      },
      "source": [
        "clf2.fit(X_train, y_train)"
      ],
      "execution_count": null,
      "outputs": [
        {
          "output_type": "execute_result",
          "data": {
            "text/plain": [
              "XGBClassifier(base_score=0.5, booster='gbtree', colsample_bylevel=1,\n",
              "              colsample_bynode=1, colsample_bytree=1, gamma=0,\n",
              "              learning_rate=0.1, max_delta_step=0, max_depth=3,\n",
              "              min_child_weight=1, missing=None, n_estimators=100, n_jobs=1,\n",
              "              nthread=None, objective='binary:logistic', random_state=0,\n",
              "              reg_alpha=0, reg_lambda=1, scale_pos_weight=1, seed=None,\n",
              "              silent=None, subsample=1, verbosity=1)"
            ]
          },
          "metadata": {
            "tags": []
          },
          "execution_count": 37
        }
      ]
    },
    {
      "cell_type": "code",
      "metadata": {
        "id": "TIod90fSFKvD"
      },
      "source": [
        "y_pred2= clf2.predict(X_test)"
      ],
      "execution_count": null,
      "outputs": []
    },
    {
      "cell_type": "code",
      "metadata": {
        "colab": {
          "base_uri": "https://localhost:8080/"
        },
        "id": "GldGTWKbGNIs",
        "outputId": "593c00e4-85eb-439f-b49d-cc11fb84d485"
      },
      "source": [
        "clf2.score(X_train, y_train)"
      ],
      "execution_count": null,
      "outputs": [
        {
          "output_type": "execute_result",
          "data": {
            "text/plain": [
              "0.8834269662921348"
            ]
          },
          "metadata": {
            "tags": []
          },
          "execution_count": 41
        }
      ]
    },
    {
      "cell_type": "code",
      "metadata": {
        "colab": {
          "base_uri": "https://localhost:8080/"
        },
        "id": "oRMyLEqLGX64",
        "outputId": "37483ea7-21fa-4c22-d8b5-5b7ee2976c02"
      },
      "source": [
        "clf2.score(X_test, y_test)"
      ],
      "execution_count": null,
      "outputs": [
        {
          "output_type": "execute_result",
          "data": {
            "text/plain": [
              "0.8715083798882681"
            ]
          },
          "metadata": {
            "tags": []
          },
          "execution_count": 43
        }
      ]
    },
    {
      "cell_type": "code",
      "metadata": {
        "colab": {
          "base_uri": "https://localhost:8080/"
        },
        "id": "dhcr4JCAGb-Z",
        "outputId": "9b8d217f-0d29-4d0f-e76c-12e7a9d577e3"
      },
      "source": [
        "confusion_matrix(y_pred2, y_test)"
      ],
      "execution_count": null,
      "outputs": [
        {
          "output_type": "execute_result",
          "data": {
            "text/plain": [
              "array([[110,  14],\n",
              "       [  9,  46]])"
            ]
          },
          "metadata": {
            "tags": []
          },
          "execution_count": 44
        }
      ]
    },
    {
      "cell_type": "code",
      "metadata": {
        "id": "cPmq6dXgGlPt"
      },
      "source": [
        "# Better estimation than adaboost"
      ],
      "execution_count": null,
      "outputs": []
    },
    {
      "cell_type": "code",
      "metadata": {
        "colab": {
          "base_uri": "https://localhost:8080/"
        },
        "id": "0aHflfMMGtNF",
        "outputId": "e66f0704-3305-4f3e-e991-3cb406e403ef"
      },
      "source": [
        "from sklearn.metrics import classification_report\n",
        "print(classification_report(y_pred2, y_test))"
      ],
      "execution_count": null,
      "outputs": [
        {
          "output_type": "stream",
          "text": [
            "              precision    recall  f1-score   support\n",
            "\n",
            "           0       0.92      0.89      0.91       124\n",
            "           1       0.77      0.84      0.80        55\n",
            "\n",
            "    accuracy                           0.87       179\n",
            "   macro avg       0.85      0.86      0.85       179\n",
            "weighted avg       0.88      0.87      0.87       179\n",
            "\n"
          ],
          "name": "stdout"
        }
      ]
    },
    {
      "cell_type": "code",
      "metadata": {
        "colab": {
          "base_uri": "https://localhost:8080/"
        },
        "id": "WWuuPMZ4JtSI",
        "outputId": "855e33cb-79b5-4c4c-96aa-35559e72f0b9"
      },
      "source": [
        "from sklearn.model_selection import cross_val_score\n",
        "cross_val_score(clf2, X_train, y_train, cv=5, n_jobs =-1).mean()"
      ],
      "execution_count": null,
      "outputs": [
        {
          "output_type": "execute_result",
          "data": {
            "text/plain": [
              "0.803398010440264"
            ]
          },
          "metadata": {
            "tags": []
          },
          "execution_count": 48
        }
      ]
    },
    {
      "cell_type": "markdown",
      "metadata": {
        "id": "qO0QgvhrLuDx"
      },
      "source": [
        "## Hyper parameters tuning"
      ]
    },
    {
      "cell_type": "code",
      "metadata": {
        "id": "j9cpNW2eLImw"
      },
      "source": [
        "from sklearn.model_selection import GridSearchCV\n",
        "param = {\n",
        "    'learning_rate':[0.1,.01, 0.3, 0.6, 0.5],\n",
        "    'max_depth' : [1,2,3,4,5],\n",
        "    'n_estimators' :[5,10, 15, 20, 50,100],\n",
        "    'gamma' :[0.1, 0.01, 0, 0.001]\n",
        "}"
      ],
      "execution_count": null,
      "outputs": []
    },
    {
      "cell_type": "code",
      "metadata": {
        "id": "2z6bqX_VMl8_"
      },
      "source": [
        "clf2_grid = GridSearchCV(estimator=clf2, param_grid=param, cv = 5, n_jobs = -1)"
      ],
      "execution_count": null,
      "outputs": []
    },
    {
      "cell_type": "code",
      "metadata": {
        "colab": {
          "base_uri": "https://localhost:8080/"
        },
        "id": "MP5xWplqNIU7",
        "outputId": "90150be8-b03c-480a-ef6b-1b5d6a65d6c6"
      },
      "source": [
        "clf2_grid.fit(X_train, y_train)"
      ],
      "execution_count": null,
      "outputs": [
        {
          "output_type": "execute_result",
          "data": {
            "text/plain": [
              "GridSearchCV(cv=5, error_score=nan,\n",
              "             estimator=XGBClassifier(base_score=0.5, booster='gbtree',\n",
              "                                     colsample_bylevel=1, colsample_bynode=1,\n",
              "                                     colsample_bytree=1, gamma=0,\n",
              "                                     learning_rate=0.1, max_delta_step=0,\n",
              "                                     max_depth=3, min_child_weight=1,\n",
              "                                     missing=None, n_estimators=100, n_jobs=1,\n",
              "                                     nthread=None, objective='binary:logistic',\n",
              "                                     random_state=0, reg_alpha=0, reg_lambda=1,\n",
              "                                     scale_pos_weight=1, seed=None, silent=None,\n",
              "                                     subsample=1, verbosity=1),\n",
              "             iid='deprecated', n_jobs=-1,\n",
              "             param_grid={'gamma': [0.1, 0.01, 0, 0.001],\n",
              "                         'learning_rate': [0.1, 0.01, 0.3, 0.6, 0.5],\n",
              "                         'max_depth': [1, 2, 3, 4, 5],\n",
              "                         'n_estimators': [5, 10, 15, 20, 50, 100]},\n",
              "             pre_dispatch='2*n_jobs', refit=True, return_train_score=False,\n",
              "             scoring=None, verbose=0)"
            ]
          },
          "metadata": {
            "tags": []
          },
          "execution_count": 56
        }
      ]
    },
    {
      "cell_type": "code",
      "metadata": {
        "colab": {
          "base_uri": "https://localhost:8080/"
        },
        "id": "odEROdlrNZEn",
        "outputId": "cb99189b-54f7-4f26-c64c-091b8da7ec9b"
      },
      "source": [
        "clf2_grid.best_estimator_"
      ],
      "execution_count": null,
      "outputs": [
        {
          "output_type": "execute_result",
          "data": {
            "text/plain": [
              "XGBClassifier(base_score=0.5, booster='gbtree', colsample_bylevel=1,\n",
              "              colsample_bynode=1, colsample_bytree=1, gamma=0.1,\n",
              "              learning_rate=0.3, max_delta_step=0, max_depth=3,\n",
              "              min_child_weight=1, missing=None, n_estimators=50, n_jobs=1,\n",
              "              nthread=None, objective='binary:logistic', random_state=0,\n",
              "              reg_alpha=0, reg_lambda=1, scale_pos_weight=1, seed=None,\n",
              "              silent=None, subsample=1, verbosity=1)"
            ]
          },
          "metadata": {
            "tags": []
          },
          "execution_count": 57
        }
      ]
    },
    {
      "cell_type": "code",
      "metadata": {
        "colab": {
          "base_uri": "https://localhost:8080/"
        },
        "id": "jG_KyCtJNo0q",
        "outputId": "82f67eb9-082a-4b8a-e325-f822e901aadd"
      },
      "source": [
        "clf2_grid.best_params_"
      ],
      "execution_count": null,
      "outputs": [
        {
          "output_type": "execute_result",
          "data": {
            "text/plain": [
              "{'gamma': 0.1, 'learning_rate': 0.3, 'max_depth': 3, 'n_estimators': 50}"
            ]
          },
          "metadata": {
            "tags": []
          },
          "execution_count": 58
        }
      ]
    },
    {
      "cell_type": "code",
      "metadata": {
        "colab": {
          "base_uri": "https://localhost:8080/"
        },
        "id": "z59MNBZONtKg",
        "outputId": "ad73c7de-6059-468f-cc33-1fbb0ac09a4d"
      },
      "source": [
        "clf2_grid.best_score_"
      ],
      "execution_count": null,
      "outputs": [
        {
          "output_type": "execute_result",
          "data": {
            "text/plain": [
              "0.8188220230473753"
            ]
          },
          "metadata": {
            "tags": []
          },
          "execution_count": 59
        }
      ]
    },
    {
      "cell_type": "markdown",
      "metadata": {
        "id": "FOwsq6dU0a16"
      },
      "source": [
        "# NN"
      ]
    },
    {
      "cell_type": "code",
      "metadata": {
        "id": "vEPAAVPdN4JM"
      },
      "source": [
        "from keras.models import Sequential\n",
        "from keras.layers import Dense, Dropout"
      ],
      "execution_count": 37,
      "outputs": []
    },
    {
      "cell_type": "code",
      "metadata": {
        "id": "MUJ9V9Qb0vOO"
      },
      "source": [
        "clf3 = Sequential()"
      ],
      "execution_count": 38,
      "outputs": []
    },
    {
      "cell_type": "code",
      "metadata": {
        "colab": {
          "base_uri": "https://localhost:8080/"
        },
        "id": "bonyomgg00pv",
        "outputId": "375a065d-5984-4f21-c0bd-dc36f05cbf05"
      },
      "source": [
        "X_train.shape, y_train.shape"
      ],
      "execution_count": 39,
      "outputs": [
        {
          "output_type": "execute_result",
          "data": {
            "text/plain": [
              "((712, 8), (712,))"
            ]
          },
          "metadata": {
            "tags": []
          },
          "execution_count": 39
        }
      ]
    },
    {
      "cell_type": "code",
      "metadata": {
        "id": "I3qwFF1R1GX2"
      },
      "source": [
        "clf3.add(Dense(32, activation = 'relu', input_shape= (8,)))\n"
      ],
      "execution_count": 40,
      "outputs": []
    },
    {
      "cell_type": "code",
      "metadata": {
        "id": "ghtF4uG312ha"
      },
      "source": [
        "clf3.add(Dense(32, activation = 'relu'))"
      ],
      "execution_count": 41,
      "outputs": []
    },
    {
      "cell_type": "code",
      "metadata": {
        "id": "somxkBQq1_yr"
      },
      "source": [
        "clf3.add(Dense(1, activation = 'sigmoid'))"
      ],
      "execution_count": 42,
      "outputs": []
    },
    {
      "cell_type": "code",
      "metadata": {
        "id": "tgbcsdVP2IfO"
      },
      "source": [
        "clf3.compile(optimizer = 'adam', loss = 'binary_crossentropy', metrics = ['accuracy'])"
      ],
      "execution_count": 43,
      "outputs": []
    },
    {
      "cell_type": "code",
      "metadata": {
        "colab": {
          "base_uri": "https://localhost:8080/"
        },
        "id": "18gqwd5W2UGz",
        "outputId": "0a12f96f-e5ac-4eb1-e31f-c6c009ef94d6"
      },
      "source": [
        "clf3.summary()"
      ],
      "execution_count": 44,
      "outputs": [
        {
          "output_type": "stream",
          "text": [
            "Model: \"sequential\"\n",
            "_________________________________________________________________\n",
            "Layer (type)                 Output Shape              Param #   \n",
            "=================================================================\n",
            "dense (Dense)                (None, 32)                288       \n",
            "_________________________________________________________________\n",
            "dense_1 (Dense)              (None, 32)                1056      \n",
            "_________________________________________________________________\n",
            "dense_2 (Dense)              (None, 1)                 33        \n",
            "=================================================================\n",
            "Total params: 1,377\n",
            "Trainable params: 1,377\n",
            "Non-trainable params: 0\n",
            "_________________________________________________________________\n"
          ],
          "name": "stdout"
        }
      ]
    },
    {
      "cell_type": "code",
      "metadata": {
        "colab": {
          "base_uri": "https://localhost:8080/"
        },
        "id": "iabFCKTO2Wyc",
        "outputId": "a980ba57-e661-4686-a3a7-889bd4665158"
      },
      "source": [
        "clf3.fit(X_train, y_train, batch_size=32, epochs=100, validation_split = 0.1 )"
      ],
      "execution_count": 45,
      "outputs": [
        {
          "output_type": "stream",
          "text": [
            "Epoch 1/100\n",
            "20/20 [==============================] - 16s 30ms/step - loss: 2.0567 - accuracy: 0.3883 - val_loss: 0.9777 - val_accuracy: 0.6111\n",
            "Epoch 2/100\n",
            "20/20 [==============================] - 0s 4ms/step - loss: 0.9565 - accuracy: 0.6471 - val_loss: 0.7207 - val_accuracy: 0.6389\n",
            "Epoch 3/100\n",
            "20/20 [==============================] - 0s 3ms/step - loss: 0.6688 - accuracy: 0.6737 - val_loss: 0.7159 - val_accuracy: 0.6667\n",
            "Epoch 4/100\n",
            "20/20 [==============================] - 0s 4ms/step - loss: 0.6445 - accuracy: 0.6596 - val_loss: 0.6313 - val_accuracy: 0.6111\n",
            "Epoch 5/100\n",
            "20/20 [==============================] - 0s 4ms/step - loss: 0.5876 - accuracy: 0.6683 - val_loss: 0.5987 - val_accuracy: 0.6944\n",
            "Epoch 6/100\n",
            "20/20 [==============================] - 0s 4ms/step - loss: 0.5788 - accuracy: 0.6922 - val_loss: 0.5891 - val_accuracy: 0.7222\n",
            "Epoch 7/100\n",
            "20/20 [==============================] - 0s 3ms/step - loss: 0.5458 - accuracy: 0.7097 - val_loss: 0.5788 - val_accuracy: 0.7222\n",
            "Epoch 8/100\n",
            "20/20 [==============================] - 0s 4ms/step - loss: 0.5548 - accuracy: 0.7228 - val_loss: 0.5670 - val_accuracy: 0.6806\n",
            "Epoch 9/100\n",
            "20/20 [==============================] - 0s 3ms/step - loss: 0.5608 - accuracy: 0.6867 - val_loss: 0.5711 - val_accuracy: 0.7083\n",
            "Epoch 10/100\n",
            "20/20 [==============================] - 0s 3ms/step - loss: 0.5420 - accuracy: 0.6915 - val_loss: 0.5498 - val_accuracy: 0.7639\n",
            "Epoch 11/100\n",
            "20/20 [==============================] - 0s 4ms/step - loss: 0.5448 - accuracy: 0.7213 - val_loss: 0.5534 - val_accuracy: 0.7361\n",
            "Epoch 12/100\n",
            "20/20 [==============================] - 0s 4ms/step - loss: 0.5352 - accuracy: 0.7248 - val_loss: 0.5507 - val_accuracy: 0.7778\n",
            "Epoch 13/100\n",
            "20/20 [==============================] - 0s 3ms/step - loss: 0.5383 - accuracy: 0.7223 - val_loss: 0.5386 - val_accuracy: 0.7222\n",
            "Epoch 14/100\n",
            "20/20 [==============================] - 0s 4ms/step - loss: 0.5088 - accuracy: 0.7490 - val_loss: 0.5446 - val_accuracy: 0.7500\n",
            "Epoch 15/100\n",
            "20/20 [==============================] - 0s 3ms/step - loss: 0.5393 - accuracy: 0.7397 - val_loss: 0.5405 - val_accuracy: 0.7222\n",
            "Epoch 16/100\n",
            "20/20 [==============================] - 0s 4ms/step - loss: 0.5282 - accuracy: 0.7338 - val_loss: 0.5197 - val_accuracy: 0.7778\n",
            "Epoch 17/100\n",
            "20/20 [==============================] - 0s 3ms/step - loss: 0.5499 - accuracy: 0.7217 - val_loss: 0.5430 - val_accuracy: 0.7639\n",
            "Epoch 18/100\n",
            "20/20 [==============================] - 0s 3ms/step - loss: 0.5040 - accuracy: 0.7447 - val_loss: 0.5272 - val_accuracy: 0.7639\n",
            "Epoch 19/100\n",
            "20/20 [==============================] - 0s 4ms/step - loss: 0.5326 - accuracy: 0.7590 - val_loss: 0.5246 - val_accuracy: 0.7361\n",
            "Epoch 20/100\n",
            "20/20 [==============================] - 0s 4ms/step - loss: 0.5243 - accuracy: 0.7379 - val_loss: 0.5086 - val_accuracy: 0.7639\n",
            "Epoch 21/100\n",
            "20/20 [==============================] - 0s 4ms/step - loss: 0.4848 - accuracy: 0.7837 - val_loss: 0.5035 - val_accuracy: 0.7778\n",
            "Epoch 22/100\n",
            "20/20 [==============================] - 0s 4ms/step - loss: 0.5250 - accuracy: 0.7461 - val_loss: 0.5060 - val_accuracy: 0.7639\n",
            "Epoch 23/100\n",
            "20/20 [==============================] - 0s 4ms/step - loss: 0.5165 - accuracy: 0.7502 - val_loss: 0.5037 - val_accuracy: 0.7500\n",
            "Epoch 24/100\n",
            "20/20 [==============================] - 0s 4ms/step - loss: 0.4820 - accuracy: 0.7811 - val_loss: 0.4964 - val_accuracy: 0.7778\n",
            "Epoch 25/100\n",
            "20/20 [==============================] - 0s 4ms/step - loss: 0.5007 - accuracy: 0.7640 - val_loss: 0.5090 - val_accuracy: 0.7778\n",
            "Epoch 26/100\n",
            "20/20 [==============================] - 0s 5ms/step - loss: 0.5248 - accuracy: 0.7608 - val_loss: 0.4903 - val_accuracy: 0.8056\n",
            "Epoch 27/100\n",
            "20/20 [==============================] - 0s 4ms/step - loss: 0.5129 - accuracy: 0.7617 - val_loss: 0.5026 - val_accuracy: 0.7917\n",
            "Epoch 28/100\n",
            "20/20 [==============================] - 0s 3ms/step - loss: 0.5543 - accuracy: 0.7538 - val_loss: 0.4958 - val_accuracy: 0.7639\n",
            "Epoch 29/100\n",
            "20/20 [==============================] - 0s 4ms/step - loss: 0.4821 - accuracy: 0.7619 - val_loss: 0.4739 - val_accuracy: 0.8056\n",
            "Epoch 30/100\n",
            "20/20 [==============================] - 0s 4ms/step - loss: 0.4684 - accuracy: 0.7908 - val_loss: 0.4746 - val_accuracy: 0.7917\n",
            "Epoch 31/100\n",
            "20/20 [==============================] - 0s 4ms/step - loss: 0.4940 - accuracy: 0.7607 - val_loss: 0.4988 - val_accuracy: 0.7778\n",
            "Epoch 32/100\n",
            "20/20 [==============================] - 0s 4ms/step - loss: 0.4951 - accuracy: 0.7825 - val_loss: 0.4699 - val_accuracy: 0.8194\n",
            "Epoch 33/100\n",
            "20/20 [==============================] - 0s 4ms/step - loss: 0.4881 - accuracy: 0.7840 - val_loss: 0.4613 - val_accuracy: 0.7917\n",
            "Epoch 34/100\n",
            "20/20 [==============================] - 0s 4ms/step - loss: 0.5241 - accuracy: 0.7643 - val_loss: 0.4630 - val_accuracy: 0.7778\n",
            "Epoch 35/100\n",
            "20/20 [==============================] - 0s 4ms/step - loss: 0.4609 - accuracy: 0.8103 - val_loss: 0.4584 - val_accuracy: 0.7917\n",
            "Epoch 36/100\n",
            "20/20 [==============================] - 0s 4ms/step - loss: 0.4572 - accuracy: 0.8027 - val_loss: 0.4577 - val_accuracy: 0.8333\n",
            "Epoch 37/100\n",
            "20/20 [==============================] - 0s 4ms/step - loss: 0.4613 - accuracy: 0.8165 - val_loss: 0.4539 - val_accuracy: 0.8194\n",
            "Epoch 38/100\n",
            "20/20 [==============================] - 0s 4ms/step - loss: 0.4586 - accuracy: 0.7994 - val_loss: 0.4502 - val_accuracy: 0.8056\n",
            "Epoch 39/100\n",
            "20/20 [==============================] - 0s 4ms/step - loss: 0.4807 - accuracy: 0.7802 - val_loss: 0.4548 - val_accuracy: 0.7917\n",
            "Epoch 40/100\n",
            "20/20 [==============================] - 0s 3ms/step - loss: 0.4946 - accuracy: 0.7924 - val_loss: 0.4610 - val_accuracy: 0.7778\n",
            "Epoch 41/100\n",
            "20/20 [==============================] - 0s 4ms/step - loss: 0.4609 - accuracy: 0.8016 - val_loss: 0.4457 - val_accuracy: 0.8194\n",
            "Epoch 42/100\n",
            "20/20 [==============================] - 0s 4ms/step - loss: 0.4768 - accuracy: 0.7926 - val_loss: 0.4628 - val_accuracy: 0.7639\n",
            "Epoch 43/100\n",
            "20/20 [==============================] - 0s 4ms/step - loss: 0.4948 - accuracy: 0.7915 - val_loss: 0.4731 - val_accuracy: 0.7500\n",
            "Epoch 44/100\n",
            "20/20 [==============================] - 0s 4ms/step - loss: 0.4441 - accuracy: 0.7936 - val_loss: 0.4366 - val_accuracy: 0.8333\n",
            "Epoch 45/100\n",
            "20/20 [==============================] - 0s 4ms/step - loss: 0.4588 - accuracy: 0.8093 - val_loss: 0.4347 - val_accuracy: 0.8333\n",
            "Epoch 46/100\n",
            "20/20 [==============================] - 0s 4ms/step - loss: 0.4532 - accuracy: 0.8042 - val_loss: 0.4453 - val_accuracy: 0.7639\n",
            "Epoch 47/100\n",
            "20/20 [==============================] - 0s 4ms/step - loss: 0.4726 - accuracy: 0.7756 - val_loss: 0.4356 - val_accuracy: 0.8333\n",
            "Epoch 48/100\n",
            "20/20 [==============================] - 0s 4ms/step - loss: 0.4791 - accuracy: 0.8043 - val_loss: 0.4289 - val_accuracy: 0.8472\n",
            "Epoch 49/100\n",
            "20/20 [==============================] - 0s 4ms/step - loss: 0.4705 - accuracy: 0.7871 - val_loss: 0.4345 - val_accuracy: 0.8056\n",
            "Epoch 50/100\n",
            "20/20 [==============================] - 0s 4ms/step - loss: 0.4542 - accuracy: 0.8126 - val_loss: 0.4258 - val_accuracy: 0.8472\n",
            "Epoch 51/100\n",
            "20/20 [==============================] - 0s 5ms/step - loss: 0.4271 - accuracy: 0.8302 - val_loss: 0.4377 - val_accuracy: 0.7778\n",
            "Epoch 52/100\n",
            "20/20 [==============================] - 0s 4ms/step - loss: 0.4402 - accuracy: 0.8237 - val_loss: 0.4241 - val_accuracy: 0.8472\n",
            "Epoch 53/100\n",
            "20/20 [==============================] - 0s 4ms/step - loss: 0.4297 - accuracy: 0.8384 - val_loss: 0.4237 - val_accuracy: 0.8333\n",
            "Epoch 54/100\n",
            "20/20 [==============================] - 0s 4ms/step - loss: 0.4519 - accuracy: 0.8028 - val_loss: 0.4287 - val_accuracy: 0.8194\n",
            "Epoch 55/100\n",
            "20/20 [==============================] - 0s 4ms/step - loss: 0.4512 - accuracy: 0.8260 - val_loss: 0.4444 - val_accuracy: 0.8333\n",
            "Epoch 56/100\n",
            "20/20 [==============================] - 0s 4ms/step - loss: 0.4912 - accuracy: 0.7891 - val_loss: 0.4267 - val_accuracy: 0.8472\n",
            "Epoch 57/100\n",
            "20/20 [==============================] - 0s 4ms/step - loss: 0.4134 - accuracy: 0.8367 - val_loss: 0.4255 - val_accuracy: 0.8333\n",
            "Epoch 58/100\n",
            "20/20 [==============================] - 0s 4ms/step - loss: 0.4307 - accuracy: 0.8219 - val_loss: 0.4229 - val_accuracy: 0.8472\n",
            "Epoch 59/100\n",
            "20/20 [==============================] - 0s 4ms/step - loss: 0.4775 - accuracy: 0.7770 - val_loss: 0.4296 - val_accuracy: 0.7778\n",
            "Epoch 60/100\n",
            "20/20 [==============================] - 0s 4ms/step - loss: 0.4642 - accuracy: 0.7832 - val_loss: 0.4159 - val_accuracy: 0.8194\n",
            "Epoch 61/100\n",
            "20/20 [==============================] - 0s 4ms/step - loss: 0.4603 - accuracy: 0.8051 - val_loss: 0.4150 - val_accuracy: 0.8472\n",
            "Epoch 62/100\n",
            "20/20 [==============================] - 0s 4ms/step - loss: 0.4648 - accuracy: 0.7844 - val_loss: 0.4322 - val_accuracy: 0.8333\n",
            "Epoch 63/100\n",
            "20/20 [==============================] - 0s 4ms/step - loss: 0.4595 - accuracy: 0.8087 - val_loss: 0.4231 - val_accuracy: 0.8472\n",
            "Epoch 64/100\n",
            "20/20 [==============================] - 0s 4ms/step - loss: 0.4432 - accuracy: 0.8140 - val_loss: 0.4162 - val_accuracy: 0.8333\n",
            "Epoch 65/100\n",
            "20/20 [==============================] - 0s 4ms/step - loss: 0.4456 - accuracy: 0.8151 - val_loss: 0.4091 - val_accuracy: 0.8472\n",
            "Epoch 66/100\n",
            "20/20 [==============================] - 0s 4ms/step - loss: 0.4638 - accuracy: 0.8085 - val_loss: 0.4008 - val_accuracy: 0.8472\n",
            "Epoch 67/100\n",
            "20/20 [==============================] - 0s 4ms/step - loss: 0.4207 - accuracy: 0.8277 - val_loss: 0.4031 - val_accuracy: 0.8472\n",
            "Epoch 68/100\n",
            "20/20 [==============================] - 0s 4ms/step - loss: 0.4119 - accuracy: 0.8381 - val_loss: 0.3976 - val_accuracy: 0.8333\n",
            "Epoch 69/100\n",
            "20/20 [==============================] - 0s 3ms/step - loss: 0.4474 - accuracy: 0.8077 - val_loss: 0.3917 - val_accuracy: 0.8611\n",
            "Epoch 70/100\n",
            "20/20 [==============================] - 0s 3ms/step - loss: 0.4287 - accuracy: 0.8004 - val_loss: 0.3900 - val_accuracy: 0.8333\n",
            "Epoch 71/100\n",
            "20/20 [==============================] - 0s 4ms/step - loss: 0.4109 - accuracy: 0.8240 - val_loss: 0.4133 - val_accuracy: 0.8194\n",
            "Epoch 72/100\n",
            "20/20 [==============================] - 0s 4ms/step - loss: 0.4389 - accuracy: 0.7944 - val_loss: 0.3960 - val_accuracy: 0.8472\n",
            "Epoch 73/100\n",
            "20/20 [==============================] - 0s 3ms/step - loss: 0.4219 - accuracy: 0.8345 - val_loss: 0.3991 - val_accuracy: 0.8472\n",
            "Epoch 74/100\n",
            "20/20 [==============================] - 0s 4ms/step - loss: 0.4402 - accuracy: 0.8170 - val_loss: 0.3915 - val_accuracy: 0.8472\n",
            "Epoch 75/100\n",
            "20/20 [==============================] - 0s 4ms/step - loss: 0.4350 - accuracy: 0.8003 - val_loss: 0.3920 - val_accuracy: 0.8472\n",
            "Epoch 76/100\n",
            "20/20 [==============================] - 0s 4ms/step - loss: 0.4218 - accuracy: 0.8343 - val_loss: 0.3876 - val_accuracy: 0.8611\n",
            "Epoch 77/100\n",
            "20/20 [==============================] - 0s 4ms/step - loss: 0.4379 - accuracy: 0.8085 - val_loss: 0.3994 - val_accuracy: 0.8333\n",
            "Epoch 78/100\n",
            "20/20 [==============================] - 0s 4ms/step - loss: 0.4602 - accuracy: 0.8044 - val_loss: 0.3891 - val_accuracy: 0.8472\n",
            "Epoch 79/100\n",
            "20/20 [==============================] - 0s 4ms/step - loss: 0.4363 - accuracy: 0.8111 - val_loss: 0.3935 - val_accuracy: 0.8333\n",
            "Epoch 80/100\n",
            "20/20 [==============================] - 0s 4ms/step - loss: 0.4500 - accuracy: 0.7963 - val_loss: 0.4008 - val_accuracy: 0.8472\n",
            "Epoch 81/100\n",
            "20/20 [==============================] - 0s 4ms/step - loss: 0.4167 - accuracy: 0.8286 - val_loss: 0.3863 - val_accuracy: 0.8472\n",
            "Epoch 82/100\n",
            "20/20 [==============================] - 0s 4ms/step - loss: 0.4253 - accuracy: 0.8134 - val_loss: 0.3876 - val_accuracy: 0.8472\n",
            "Epoch 83/100\n",
            "20/20 [==============================] - 0s 4ms/step - loss: 0.4259 - accuracy: 0.8278 - val_loss: 0.3884 - val_accuracy: 0.8472\n",
            "Epoch 84/100\n",
            "20/20 [==============================] - 0s 4ms/step - loss: 0.4404 - accuracy: 0.8059 - val_loss: 0.3946 - val_accuracy: 0.8472\n",
            "Epoch 85/100\n",
            "20/20 [==============================] - 0s 5ms/step - loss: 0.4234 - accuracy: 0.8074 - val_loss: 0.4043 - val_accuracy: 0.8333\n",
            "Epoch 86/100\n",
            "20/20 [==============================] - 0s 4ms/step - loss: 0.4278 - accuracy: 0.8190 - val_loss: 0.3876 - val_accuracy: 0.8472\n",
            "Epoch 87/100\n",
            "20/20 [==============================] - 0s 4ms/step - loss: 0.4681 - accuracy: 0.8149 - val_loss: 0.3886 - val_accuracy: 0.8750\n",
            "Epoch 88/100\n",
            "20/20 [==============================] - 0s 4ms/step - loss: 0.4140 - accuracy: 0.8304 - val_loss: 0.3991 - val_accuracy: 0.8750\n",
            "Epoch 89/100\n",
            "20/20 [==============================] - 0s 4ms/step - loss: 0.4369 - accuracy: 0.8165 - val_loss: 0.3894 - val_accuracy: 0.8472\n",
            "Epoch 90/100\n",
            "20/20 [==============================] - 0s 4ms/step - loss: 0.4175 - accuracy: 0.8202 - val_loss: 0.3906 - val_accuracy: 0.8333\n",
            "Epoch 91/100\n",
            "20/20 [==============================] - 0s 4ms/step - loss: 0.4262 - accuracy: 0.8088 - val_loss: 0.3991 - val_accuracy: 0.8333\n",
            "Epoch 92/100\n",
            "20/20 [==============================] - 0s 4ms/step - loss: 0.4411 - accuracy: 0.8036 - val_loss: 0.3894 - val_accuracy: 0.8472\n",
            "Epoch 93/100\n",
            "20/20 [==============================] - 0s 4ms/step - loss: 0.4325 - accuracy: 0.8075 - val_loss: 0.3762 - val_accuracy: 0.8889\n",
            "Epoch 94/100\n",
            "20/20 [==============================] - 0s 4ms/step - loss: 0.4190 - accuracy: 0.8264 - val_loss: 0.3791 - val_accuracy: 0.8333\n",
            "Epoch 95/100\n",
            "20/20 [==============================] - 0s 4ms/step - loss: 0.4286 - accuracy: 0.8177 - val_loss: 0.3755 - val_accuracy: 0.8750\n",
            "Epoch 96/100\n",
            "20/20 [==============================] - 0s 4ms/step - loss: 0.3938 - accuracy: 0.8471 - val_loss: 0.3747 - val_accuracy: 0.8611\n",
            "Epoch 97/100\n",
            "20/20 [==============================] - 0s 4ms/step - loss: 0.4288 - accuracy: 0.8181 - val_loss: 0.3724 - val_accuracy: 0.8472\n",
            "Epoch 98/100\n",
            "20/20 [==============================] - 0s 4ms/step - loss: 0.3932 - accuracy: 0.8446 - val_loss: 0.3851 - val_accuracy: 0.8333\n",
            "Epoch 99/100\n",
            "20/20 [==============================] - 0s 4ms/step - loss: 0.4632 - accuracy: 0.7992 - val_loss: 0.3825 - val_accuracy: 0.8472\n",
            "Epoch 100/100\n",
            "20/20 [==============================] - 0s 4ms/step - loss: 0.4095 - accuracy: 0.8209 - val_loss: 0.3811 - val_accuracy: 0.8611\n"
          ],
          "name": "stdout"
        },
        {
          "output_type": "execute_result",
          "data": {
            "text/plain": [
              "<keras.callbacks.History at 0x7f3649a4ba50>"
            ]
          },
          "metadata": {
            "tags": []
          },
          "execution_count": 45
        }
      ]
    },
    {
      "cell_type": "code",
      "metadata": {
        "colab": {
          "base_uri": "https://localhost:8080/",
          "height": 282
        },
        "id": "eKY3rFTR2xy-",
        "outputId": "821b259a-b8ab-44ba-c8b8-b8d78aef8852"
      },
      "source": [
        "pd.DataFrame(clf3.history.history).plot()"
      ],
      "execution_count": 46,
      "outputs": [
        {
          "output_type": "execute_result",
          "data": {
            "text/plain": [
              "<matplotlib.axes._subplots.AxesSubplot at 0x7f36488ac7d0>"
            ]
          },
          "metadata": {
            "tags": []
          },
          "execution_count": 46
        },
        {
          "output_type": "display_data",
          "data": {
            "image/png": "[encoded data removed]",
            "text/plain": [
              "<Figure size 432x288 with 1 Axes>"
            ]
          },
          "metadata": {
            "tags": [],
            "needs_background": "light"
          }
        }
      ]
    },
    {
      "cell_type": "code",
      "metadata": {
        "colab": {
          "base_uri": "https://localhost:8080/"
        },
        "id": "8-_UxGEM3HDm",
        "outputId": "41179619-faf6-4d2e-9b62-2e2358c36c28"
      },
      "source": [
        "clf3.evaluate(X_test, y_test)"
      ],
      "execution_count": 47,
      "outputs": [
        {
          "output_type": "stream",
          "text": [
            "6/6 [==============================] - 0s 6ms/step - loss: 0.4389 - accuracy: 0.8212\n"
          ],
          "name": "stdout"
        },
        {
          "output_type": "execute_result",
          "data": {
            "text/plain": [
              "[0.43891143798828125, 0.8212290406227112]"
            ]
          },
          "metadata": {
            "tags": []
          },
          "execution_count": 47
        }
      ]
    },
    {
      "cell_type": "code",
      "metadata": {
        "id": "mfeT63Q73UpF"
      },
      "source": [
        "y_pred = clf3.predict(X_test)"
      ],
      "execution_count": 51,
      "outputs": []
    },
    {
      "cell_type": "code",
      "metadata": {
        "id": "hIsC9CGw3Y5F"
      },
      "source": [
        "y_pred = y_pred>=0.5"
      ],
      "execution_count": 53,
      "outputs": []
    },
    {
      "cell_type": "code",
      "metadata": {
        "colab": {
          "base_uri": "https://localhost:8080/"
        },
        "id": "I5E58y3j3c9m",
        "outputId": "df15e04a-046c-4508-ee5d-b92a5728fba0"
      },
      "source": [
        "from sklearn.metrics import confusion_matrix\n",
        "confusion_matrix(y_pred, y_test)"
      ],
      "execution_count": 54,
      "outputs": [
        {
          "output_type": "execute_result",
          "data": {
            "text/plain": [
              "array([[98, 22],\n",
              "       [10, 49]])"
            ]
          },
          "metadata": {
            "tags": []
          },
          "execution_count": 54
        }
      ]
    },
    {
      "cell_type": "code",
      "metadata": {
        "id": "IGKfBq9v3tpO"
      },
      "source": [
        ""
      ],
      "execution_count": null,
      "outputs": []
    }
  ]
}